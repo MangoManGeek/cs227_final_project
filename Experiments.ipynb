{
 "cells": [
  {
   "cell_type": "code",
   "execution_count": 1,
   "metadata": {
    "pycharm": {
     "is_executing": false
    }
   },
   "outputs": [
    {
     "name": "stdout",
     "output_type": "stream",
     "text": [
      "TS-Data path: \\Users\\jiang\\Desktop\\2270\\cs227_final_project\\data\\data\n"
     ]
    },
    {
     "name": "stderr",
     "output_type": "stream",
     "text": [
      "COMET WARNING: display_summary is set in Comet config but has been deprecated; use display_summary_level instead\n",
      "COMET WARNING: As you are running in a Jupyter environment, you will need to call `experiment.end()` when finished to ensure all metrics and code are logged before exiting.\n"
     ]
    },
    {
     "name": "stdout",
     "output_type": "stream",
     "text": [
      "Importing the dtw module. When using in academic works please cite:\n",
      "  T. Giorgino. Computing and Visualizing Dynamic Time Warping Alignments in R: The dtw Package.\n",
      "  J. Stat. Soft., doi:10.18637/jss.v031.i07.\n",
      "\n"
     ]
    },
    {
     "name": "stderr",
     "output_type": "stream",
     "text": [
      "COMET INFO: Experiment is live on comet.ml https://www.comet.ml/ocfa25uw/cs227-final/9795ffe99251436586c1dfd42a35de7b\n",
      "\n"
     ]
    },
    {
     "name": "stdout",
     "output_type": "stream",
     "text": [
      "Dataset shape: Train: (50, 150, 1), Test: (150, 150, 1)\n"
     ]
    }
   ],
   "source": [
    "from comet_ml import Experiment\n",
    "import sys\n",
    "sys.path.append(\"/Users/jiang/Desktop/2270/cs227_final_project/data/data\") # path to this repository\n",
    "import py_ts_data\n",
    "\n",
    "import tensorflow as tf\n",
    "import numpy as np\n",
    "import matplotlib.pyplot as plt\n",
    "\n",
    "import datetime\n",
    "from auto_encoder import AutoEncoder, train_step, LAMBDA\n",
    "from preprocess import augmentation\n",
    "from tqdm import tqdm\n",
    "\n",
    "\n",
    "experiment = Experiment(project_name=\"cs227_final\", log_code=False)\n",
    "experiment.log_parameters(LAMBDA)\n",
    "\n",
    "# X_train, y_train, X_test, y_test, info = py_ts_data.load_data(\"TwoPatterns\", variables_as_channels=True)\n",
    "X_train, y_train, X_test, y_test, info = py_ts_data.load_data(\"GunPoint\", variables_as_channels=True)\n",
    "print(\"Dataset shape: Train: {}, Test: {}\".format(X_train.shape, X_test.shape))"
   ]
  },
  {
   "cell_type": "code",
   "execution_count": null,
   "metadata": {
    "pycharm": {
     "is_executing": false
    }
   },
   "outputs": [],
   "source": []
  },
  {
   "cell_type": "code",
   "execution_count": 2,
   "metadata": {
    "pycharm": {
     "is_executing": false
    }
   },
   "outputs": [],
   "source": [
    "def min_max(data, feature_range=(0, 1)):\n",
    "    \"\"\"\n",
    "    implements min-max scaler\n",
    "    \"\"\"\n",
    "    min_v = feature_range[0]\n",
    "    max_v = feature_range[1]\n",
    "    max_vals = data.max(axis=1)[:, None, :]\n",
    "    min_vals = data.min(axis=1)[:, None, :]\n",
    "    X_std = (data - min_vals) / (max_vals - min_vals)\n",
    "    return X_std * (max_v - min_v) + min_v\n",
    "\n",
    "def normalize(data):\n",
    "    \"\"\"\n",
    "    Z-normalize data with shape (x, y, z)\n",
    "    x = # of timeseries\n",
    "    y = len of each timeseries\n",
    "    z = vars in each timeseres\n",
    "    \n",
    "    s.t. each array in [., :, .] (i.e. each timeseries variable)\n",
    "    is zero-mean and unit stddev\n",
    "    \"\"\"\n",
    "    sz, l, d = data.shape\n",
    "    means = np.broadcast_to(np.mean(data, axis=1)[:, None, :], (sz, l, d))\n",
    "    stddev = np.broadcast_to(np.std(data, axis=1)[:, None, :], (sz, l, d)) \n",
    "    return (data - means)/stddev\n"
   ]
  },
  {
   "cell_type": "code",
   "execution_count": 3,
   "metadata": {
    "pycharm": {
     "is_executing": false
    }
   },
   "outputs": [
    {
     "name": "stdout",
     "output_type": "stream",
     "text": [
      "(50, 150, 1) (50,)\n",
      "<class 'numpy.float32'>\n",
      "(1550, 150, 1) (1550,)\n"
     ]
    },
    {
     "data": {
      "image/png": "[encoded data removed]",
      "text/plain": [
       "<Figure size 720x216 with 2 Axes>"
      ]
     },
     "metadata": {
      "needs_background": "light"
     },
     "output_type": "display_data"
    }
   ],
   "source": [
    "print(X_train.shape, y_train.shape)\n",
    "X_train, y_train = augmentation(X_train, y_train)\n",
    "X_test, y_test = X_test, y_test\n",
    "print(X_train.shape, y_train.shape)\n",
    "fig, axs = plt.subplots(1, 2, figsize=(10, 3))\n",
    "axs[0].plot(X_train[200])\n",
    "X_train = min_max(X_train, feature_range=(-1, 1))\n",
    "axs[1].plot(X_train[200])\n",
    "X_test = min_max(X_test, feature_range=(-1, 1))\n",
    "plt.show()\n"
   ]
  },
  {
   "cell_type": "markdown",
   "metadata": {},
   "source": [
    "# Encode and Decode"
   ]
  },
  {
   "cell_type": "code",
   "execution_count": 4,
   "metadata": {
    "pycharm": {
     "is_executing": false
    }
   },
   "outputs": [],
   "source": [
    "kwargs = {\n",
    "    \"input_shape\": (X_train.shape[1], X_train.shape[2]),\n",
    "#     \"filters\": [32, 64, 128],\n",
    "    \"filters\": [128, 64, 32],\n",
    "    \"kernel_sizes\": [5, 5, 5],\n",
    "    \"code_size\": 16,\n",
    "}\n",
    "\n",
    "ae = AutoEncoder(**kwargs)"
   ]
  },
  {
   "cell_type": "markdown",
   "metadata": {},
   "source": [
    "# Training"
   ]
  },
  {
   "cell_type": "code",
   "execution_count": 5,
   "metadata": {
    "pycharm": {
     "is_executing": false
    },
    "scrolled": true
   },
   "outputs": [
    {
     "name": "stderr",
     "output_type": "stream",
     "text": [
      "100%|██████████████████████████████████████████████████████████████████████████████████████████████████████████████████████████████████████████████████████████████████████████| 155/155 [00:27<00:00,  5.62it/s]\n",
      "  1%|█                                                                                                                                                                           | 1/155 [00:00<00:27,  5.51it/s]"
     ]
    },
    {
     "name": "stdout",
     "output_type": "stream",
     "text": [
      "Epoch 0: 30.117830276489258, 586.9763793945312, 24.49298858642578\n"
     ]
    },
    {
     "name": "stderr",
     "output_type": "stream",
     "text": [
      "100%|██████████████████████████████████████████████████████████████████████████████████████████████████████████████████████████████████████████████████████████████████████████| 155/155 [00:27<00:00,  5.66it/s]\n",
      "  1%|█                                                                                                                                                                           | 1/155 [00:00<00:27,  5.57it/s]"
     ]
    },
    {
     "name": "stdout",
     "output_type": "stream",
     "text": [
      "Epoch 1: 8.649079322814941, 491.01904296875, 3.7766571044921875\n"
     ]
    },
    {
     "name": "stderr",
     "output_type": "stream",
     "text": [
      "100%|██████████████████████████████████████████████████████████████████████████████████████████████████████████████████████████████████████████████████████████████████████████| 155/155 [00:27<00:00,  5.64it/s]\n",
      "  1%|█                                                                                                                                                                           | 1/155 [00:00<00:27,  5.51it/s]"
     ]
    },
    {
     "name": "stdout",
     "output_type": "stream",
     "text": [
      "Epoch 2: 7.394573211669922, 428.4395446777344, 3.1415927410125732\n"
     ]
    },
    {
     "name": "stderr",
     "output_type": "stream",
     "text": [
      "100%|██████████████████████████████████████████████████████████████████████████████████████████████████████████████████████████████████████████████████████████████████████████| 155/155 [00:27<00:00,  5.65it/s]\n",
      "  1%|█                                                                                                                                                                           | 1/155 [00:00<00:27,  5.54it/s]"
     ]
    },
    {
     "name": "stdout",
     "output_type": "stream",
     "text": [
      "Epoch 3: 7.206876754760742, 429.07794189453125, 2.9455528259277344\n"
     ]
    },
    {
     "name": "stderr",
     "output_type": "stream",
     "text": [
      "100%|██████████████████████████████████████████████████████████████████████████████████████████████████████████████████████████████████████████████████████████████████████████| 155/155 [00:27<00:00,  5.64it/s]\n",
      "  1%|█                                                                                                                                                                           | 1/155 [00:00<00:28,  5.48it/s]"
     ]
    },
    {
     "name": "stdout",
     "output_type": "stream",
     "text": [
      "Epoch 4: 6.745779037475586, 365.1106262207031, 3.125933885574341\n"
     ]
    },
    {
     "name": "stderr",
     "output_type": "stream",
     "text": [
      "100%|██████████████████████████████████████████████████████████████████████████████████████████████████████████████████████████████████████████████████████████████████████████| 155/155 [00:27<00:00,  5.65it/s]\n",
      "  1%|█                                                                                                                                                                           | 1/155 [00:00<00:28,  5.42it/s]"
     ]
    },
    {
     "name": "stdout",
     "output_type": "stream",
     "text": [
      "Epoch 5: 5.930203437805176, 301.5326232910156, 2.9443211555480957\n"
     ]
    },
    {
     "name": "stderr",
     "output_type": "stream",
     "text": [
      "100%|██████████████████████████████████████████████████████████████████████████████████████████████████████████████████████████████████████████████████████████████████████████| 155/155 [00:27<00:00,  5.58it/s]\n",
      "  1%|█                                                                                                                                                                           | 1/155 [00:00<00:27,  5.51it/s]"
     ]
    },
    {
     "name": "stdout",
     "output_type": "stream",
     "text": [
      "Epoch 6: 5.395895004272461, 243.237548828125, 2.9934518337249756\n"
     ]
    },
    {
     "name": "stderr",
     "output_type": "stream",
     "text": [
      "100%|██████████████████████████████████████████████████████████████████████████████████████████████████████████████████████████████████████████████████████████████████████████| 155/155 [00:27<00:00,  5.59it/s]\n",
      "  1%|█                                                                                                                                                                           | 1/155 [00:00<00:28,  5.45it/s]"
     ]
    },
    {
     "name": "stdout",
     "output_type": "stream",
     "text": [
      "Epoch 7: 3.9972310066223145, 160.9901123046875, 2.4114434719085693\n"
     ]
    },
    {
     "name": "stderr",
     "output_type": "stream",
     "text": [
      "100%|██████████████████████████████████████████████████████████████████████████████████████████████████████████████████████████████████████████████████████████████████████████| 155/155 [00:27<00:00,  5.63it/s]\n",
      "  1%|█                                                                                                                                                                           | 1/155 [00:00<00:28,  5.48it/s]"
     ]
    },
    {
     "name": "stdout",
     "output_type": "stream",
     "text": [
      "Epoch 8: 4.0434041023254395, 143.3877410888672, 2.635887622833252\n"
     ]
    },
    {
     "name": "stderr",
     "output_type": "stream",
     "text": [
      "100%|██████████████████████████████████████████████████████████████████████████████████████████████████████████████████████████████████████████████████████████████████████████| 155/155 [00:27<00:00,  5.64it/s]\n",
      "  1%|█                                                                                                                                                                           | 1/155 [00:00<00:27,  5.54it/s]"
     ]
    },
    {
     "name": "stdout",
     "output_type": "stream",
     "text": [
      "Epoch 9: 3.7007009983062744, 150.03274536132812, 2.222599744796753\n"
     ]
    },
    {
     "name": "stderr",
     "output_type": "stream",
     "text": [
      "100%|██████████████████████████████████████████████████████████████████████████████████████████████████████████████████████████████████████████████████████████████████████████| 155/155 [00:27<00:00,  5.61it/s]\n",
      "  1%|█                                                                                                                                                                           | 1/155 [00:00<00:29,  5.25it/s]"
     ]
    },
    {
     "name": "stdout",
     "output_type": "stream",
     "text": [
      "Epoch 10: 3.6584527492523193, 117.73722076416016, 2.5061419010162354\n"
     ]
    },
    {
     "name": "stderr",
     "output_type": "stream",
     "text": [
      "100%|██████████████████████████████████████████████████████████████████████████████████████████████████████████████████████████████████████████████████████████████████████████| 155/155 [00:27<00:00,  5.60it/s]\n",
      "  1%|█                                                                                                                                                                           | 1/155 [00:00<00:27,  5.60it/s]"
     ]
    },
    {
     "name": "stdout",
     "output_type": "stream",
     "text": [
      "Epoch 11: 3.1718883514404297, 109.42999267578125, 2.098574638366699\n"
     ]
    },
    {
     "name": "stderr",
     "output_type": "stream",
     "text": [
      "100%|██████████████████████████████████████████████████████████████████████████████████████████████████████████████████████████████████████████████████████████████████████████| 155/155 [00:28<00:00,  5.51it/s]\n",
      "  0%|                                                                                                                                                                                    | 0/155 [00:00<?, ?it/s]"
     ]
    },
    {
     "name": "stdout",
     "output_type": "stream",
     "text": [
      "Epoch 12: 2.917586326599121, 106.57903289794922, 1.870501160621643\n"
     ]
    },
    {
     "name": "stderr",
     "output_type": "stream",
     "text": [
      "100%|██████████████████████████████████████████████████████████████████████████████████████████████████████████████████████████████████████████████████████████████████████████| 155/155 [00:27<00:00,  5.62it/s]\n",
      "  1%|█                                                                                                                                                                           | 1/155 [00:00<00:27,  5.63it/s]"
     ]
    },
    {
     "name": "stdout",
     "output_type": "stream",
     "text": [
      "Epoch 13: 3.0819919109344482, 109.23173522949219, 2.0097720623016357\n"
     ]
    },
    {
     "name": "stderr",
     "output_type": "stream",
     "text": [
      "100%|██████████████████████████████████████████████████████████████████████████████████████████████████████████████████████████████████████████████████████████████████████████| 155/155 [00:27<00:00,  5.65it/s]\n",
      "  1%|█                                                                                                                                                                           | 1/155 [00:00<00:27,  5.57it/s]"
     ]
    },
    {
     "name": "stdout",
     "output_type": "stream",
     "text": [
      "Epoch 14: 3.0777480602264404, 114.896728515625, 1.9482638835906982\n"
     ]
    },
    {
     "name": "stderr",
     "output_type": "stream",
     "text": [
      "100%|██████████████████████████████████████████████████████████████████████████████████████████████████████████████████████████████████████████████████████████████████████████| 155/155 [00:27<00:00,  5.62it/s]\n",
      "  1%|█                                                                                                                                                                           | 1/155 [00:00<00:27,  5.54it/s]"
     ]
    },
    {
     "name": "stdout",
     "output_type": "stream",
     "text": [
      "Epoch 15: 2.9825150966644287, 109.37570190429688, 1.9078377485275269\n"
     ]
    },
    {
     "name": "stderr",
     "output_type": "stream",
     "text": [
      "100%|██████████████████████████████████████████████████████████████████████████████████████████████████████████████████████████████████████████████████████████████████████████| 155/155 [00:27<00:00,  5.66it/s]\n",
      "  1%|█                                                                                                                                                                           | 1/155 [00:00<00:27,  5.51it/s]"
     ]
    },
    {
     "name": "stdout",
     "output_type": "stream",
     "text": [
      "Epoch 16: 2.996535301208496, 107.40912628173828, 1.9418621063232422\n"
     ]
    },
    {
     "name": "stderr",
     "output_type": "stream",
     "text": [
      "100%|██████████████████████████████████████████████████████████████████████████████████████████████████████████████████████████████████████████████████████████████████████████| 155/155 [00:27<00:00,  5.65it/s]\n",
      "  1%|█                                                                                                                                                                           | 1/155 [00:00<00:27,  5.60it/s]"
     ]
    },
    {
     "name": "stdout",
     "output_type": "stream",
     "text": [
      "Epoch 17: 2.908832550048828, 103.53496551513672, 1.8924070596694946\n"
     ]
    },
    {
     "name": "stderr",
     "output_type": "stream",
     "text": [
      "100%|██████████████████████████████████████████████████████████████████████████████████████████████████████████████████████████████████████████████████████████████████████████| 155/155 [00:27<00:00,  5.65it/s]\n",
      "  1%|█                                                                                                                                                                           | 1/155 [00:00<00:27,  5.57it/s]"
     ]
    },
    {
     "name": "stdout",
     "output_type": "stream",
     "text": [
      "Epoch 18: 2.6247076988220215, 90.66170501708984, 1.7354464530944824\n"
     ]
    },
    {
     "name": "stderr",
     "output_type": "stream",
     "text": [
      "100%|██████████████████████████████████████████████████████████████████████████████████████████████████████████████████████████████████████████████████████████████████████████| 155/155 [00:27<00:00,  5.63it/s]\n",
      "  1%|█                                                                                                                                                                           | 1/155 [00:00<00:27,  5.54it/s]"
     ]
    },
    {
     "name": "stdout",
     "output_type": "stream",
     "text": [
      "Epoch 19: 2.943913459777832, 87.91791534423828, 2.0855915546417236\n"
     ]
    },
    {
     "name": "stderr",
     "output_type": "stream",
     "text": [
      "100%|██████████████████████████████████████████████████████████████████████████████████████████████████████████████████████████████████████████████████████████████████████████| 155/155 [00:27<00:00,  5.57it/s]\n",
      "  1%|█                                                                                                                                                                           | 1/155 [00:00<00:28,  5.48it/s]"
     ]
    },
    {
     "name": "stdout",
     "output_type": "stream",
     "text": [
      "Epoch 20: 2.7883176803588867, 88.60066986083984, 1.921526551246643\n"
     ]
    },
    {
     "name": "stderr",
     "output_type": "stream",
     "text": [
      "100%|██████████████████████████████████████████████████████████████████████████████████████████████████████████████████████████████████████████████████████████████████████████| 155/155 [00:27<00:00,  5.65it/s]\n",
      "  1%|█                                                                                                                                                                           | 1/155 [00:00<00:27,  5.60it/s]"
     ]
    },
    {
     "name": "stdout",
     "output_type": "stream",
     "text": [
      "Epoch 21: 2.6301276683807373, 82.83787536621094, 1.8199490308761597\n"
     ]
    },
    {
     "name": "stderr",
     "output_type": "stream",
     "text": [
      "100%|██████████████████████████████████████████████████████████████████████████████████████████████████████████████████████████████████████████████████████████████████████████| 155/155 [00:27<00:00,  5.65it/s]\n",
      "  1%|█                                                                                                                                                                           | 1/155 [00:00<00:27,  5.54it/s]"
     ]
    },
    {
     "name": "stdout",
     "output_type": "stream",
     "text": [
      "Epoch 22: 2.750103712081909, 85.43446350097656, 1.914908528327942\n"
     ]
    },
    {
     "name": "stderr",
     "output_type": "stream",
     "text": [
      "100%|██████████████████████████████████████████████████████████████████████████████████████████████████████████████████████████████████████████████████████████████████████████| 155/155 [00:27<00:00,  5.64it/s]\n",
      "  1%|█                                                                                                                                                                           | 1/155 [00:00<00:27,  5.57it/s]"
     ]
    },
    {
     "name": "stdout",
     "output_type": "stream",
     "text": [
      "Epoch 23: 2.8296151161193848, 87.54901885986328, 1.9738625288009644\n"
     ]
    },
    {
     "name": "stderr",
     "output_type": "stream",
     "text": [
      "100%|██████████████████████████████████████████████████████████████████████████████████████████████████████████████████████████████████████████████████████████████████████████| 155/155 [00:27<00:00,  5.63it/s]\n",
      "  1%|█                                                                                                                                                                           | 1/155 [00:00<00:27,  5.63it/s]"
     ]
    },
    {
     "name": "stdout",
     "output_type": "stream",
     "text": [
      "Epoch 24: 2.468402624130249, 82.64156341552734, 1.6585725545883179\n"
     ]
    },
    {
     "name": "stderr",
     "output_type": "stream",
     "text": [
      "100%|██████████████████████████████████████████████████████████████████████████████████████████████████████████████████████████████████████████████████████████████████████████| 155/155 [00:27<00:00,  5.64it/s]\n",
      "  1%|█                                                                                                                                                                           | 1/155 [00:00<00:27,  5.57it/s]"
     ]
    },
    {
     "name": "stdout",
     "output_type": "stream",
     "text": [
      "Epoch 25: 2.3764617443084717, 84.82685852050781, 1.5436291694641113\n"
     ]
    },
    {
     "name": "stderr",
     "output_type": "stream",
     "text": [
      "100%|██████████████████████████████████████████████████████████████████████████████████████████████████████████████████████████████████████████████████████████████████████████| 155/155 [00:27<00:00,  5.66it/s]\n",
      "  1%|█                                                                                                                                                                           | 1/155 [00:00<00:28,  5.48it/s]"
     ]
    },
    {
     "name": "stdout",
     "output_type": "stream",
     "text": [
      "Epoch 26: 2.518012046813965, 89.6087646484375, 1.6383075714111328\n"
     ]
    },
    {
     "name": "stderr",
     "output_type": "stream",
     "text": [
      "100%|██████████████████████████████████████████████████████████████████████████████████████████████████████████████████████████████████████████████████████████████████████████| 155/155 [00:27<00:00,  5.60it/s]\n",
      "  1%|█                                                                                                                                                                           | 1/155 [00:00<00:28,  5.48it/s]"
     ]
    },
    {
     "name": "stdout",
     "output_type": "stream",
     "text": [
      "Epoch 27: 2.3594768047332764, 73.5430679321289, 1.640450119972229\n"
     ]
    },
    {
     "name": "stderr",
     "output_type": "stream",
     "text": [
      "100%|██████████████████████████████████████████████████████████████████████████████████████████████████████████████████████████████████████████████████████████████████████████| 155/155 [00:28<00:00,  5.41it/s]\n",
      "  1%|█                                                                                                                                                                           | 1/155 [00:00<00:27,  5.63it/s]"
     ]
    },
    {
     "name": "stdout",
     "output_type": "stream",
     "text": [
      "Epoch 28: 2.299602746963501, 74.49143981933594, 1.5703914165496826\n"
     ]
    },
    {
     "name": "stderr",
     "output_type": "stream",
     "text": [
      "100%|██████████████████████████████████████████████████████████████████████████████████████████████████████████████████████████████████████████████████████████████████████████| 155/155 [00:28<00:00,  5.53it/s]\n",
      "  0%|                                                                                                                                                                                    | 0/155 [00:00<?, ?it/s]"
     ]
    },
    {
     "name": "stdout",
     "output_type": "stream",
     "text": [
      "Epoch 29: 2.5350091457366943, 85.01031494140625, 1.7019248008728027\n"
     ]
    },
    {
     "name": "stderr",
     "output_type": "stream",
     "text": [
      "100%|██████████████████████████████████████████████████████████████████████████████████████████████████████████████████████████████████████████████████████████████████████████| 155/155 [00:28<00:00,  5.48it/s]\n",
      "  1%|█                                                                                                                                                                           | 1/155 [00:00<00:27,  5.60it/s]"
     ]
    },
    {
     "name": "stdout",
     "output_type": "stream",
     "text": [
      "Epoch 30: 2.3117153644561768, 75.87388610839844, 1.568663239479065\n"
     ]
    },
    {
     "name": "stderr",
     "output_type": "stream",
     "text": [
      "100%|██████████████████████████████████████████████████████████████████████████████████████████████████████████████████████████████████████████████████████████████████████████| 155/155 [00:27<00:00,  5.61it/s]\n",
      "  1%|█                                                                                                                                                                           | 1/155 [00:00<00:27,  5.57it/s]"
     ]
    },
    {
     "name": "stdout",
     "output_type": "stream",
     "text": [
      "Epoch 31: 2.4658944606781006, 76.86398315429688, 1.7143985033035278\n"
     ]
    },
    {
     "name": "stderr",
     "output_type": "stream",
     "text": [
      "100%|██████████████████████████████████████████████████████████████████████████████████████████████████████████████████████████████████████████████████████████████████████████| 155/155 [00:28<00:00,  5.50it/s]\n",
      "  1%|█                                                                                                                                                                           | 1/155 [00:00<00:27,  5.51it/s]"
     ]
    },
    {
     "name": "stdout",
     "output_type": "stream",
     "text": [
      "Epoch 32: 2.408097267150879, 74.11177825927734, 1.683817744255066\n"
     ]
    },
    {
     "name": "stderr",
     "output_type": "stream",
     "text": [
      "100%|██████████████████████████████████████████████████████████████████████████████████████████████████████████████████████████████████████████████████████████████████████████| 155/155 [00:28<00:00,  5.51it/s]\n",
      "  1%|█                                                                                                                                                                           | 1/155 [00:00<00:28,  5.48it/s]"
     ]
    },
    {
     "name": "stdout",
     "output_type": "stream",
     "text": [
      "Epoch 33: 2.073974847793579, 64.75537109375, 1.440828561782837\n"
     ]
    },
    {
     "name": "stderr",
     "output_type": "stream",
     "text": [
      "100%|██████████████████████████████████████████████████████████████████████████████████████████████████████████████████████████████████████████████████████████████████████████| 155/155 [00:27<00:00,  5.57it/s]\n",
      "  1%|█                                                                                                                                                                           | 1/155 [00:00<00:27,  5.54it/s]"
     ]
    },
    {
     "name": "stdout",
     "output_type": "stream",
     "text": [
      "Epoch 34: 2.2814736366271973, 80.48805236816406, 1.4915093183517456\n"
     ]
    },
    {
     "name": "stderr",
     "output_type": "stream",
     "text": [
      "100%|██████████████████████████████████████████████████████████████████████████████████████████████████████████████████████████████████████████████████████████████████████████| 155/155 [00:27<00:00,  5.60it/s]\n",
      "  1%|█                                                                                                                                                                           | 1/155 [00:00<00:28,  5.45it/s]"
     ]
    },
    {
     "name": "stdout",
     "output_type": "stream",
     "text": [
      "Epoch 35: 2.3549957275390625, 83.0478515625, 1.5399154424667358\n"
     ]
    },
    {
     "name": "stderr",
     "output_type": "stream",
     "text": [
      "100%|██████████████████████████████████████████████████████████████████████████████████████████████████████████████████████████████████████████████████████████████████████████| 155/155 [00:27<00:00,  5.59it/s]\n",
      "  1%|█                                                                                                                                                                           | 1/155 [00:00<00:27,  5.54it/s]"
     ]
    },
    {
     "name": "stdout",
     "output_type": "stream",
     "text": [
      "Epoch 36: 2.2549407482147217, 68.27596282958984, 1.5880627632141113\n"
     ]
    },
    {
     "name": "stderr",
     "output_type": "stream",
     "text": [
      "100%|██████████████████████████████████████████████████████████████████████████████████████████████████████████████████████████████████████████████████████████████████████████| 155/155 [00:27<00:00,  5.63it/s]\n",
      "  1%|█                                                                                                                                                                           | 1/155 [00:00<00:27,  5.54it/s]"
     ]
    },
    {
     "name": "stdout",
     "output_type": "stream",
     "text": [
      "Epoch 37: 2.5181820392608643, 73.7150650024414, 1.79902184009552\n"
     ]
    },
    {
     "name": "stderr",
     "output_type": "stream",
     "text": [
      "100%|██████████████████████████████████████████████████████████████████████████████████████████████████████████████████████████████████████████████████████████████████████████| 155/155 [00:27<00:00,  5.62it/s]\n",
      "  1%|█                                                                                                                                                                           | 1/155 [00:00<00:28,  5.42it/s]"
     ]
    },
    {
     "name": "stdout",
     "output_type": "stream",
     "text": [
      "Epoch 38: 2.2007265090942383, 70.14828491210938, 1.5143871307373047\n"
     ]
    },
    {
     "name": "stderr",
     "output_type": "stream",
     "text": [
      "100%|██████████████████████████████████████████████████████████████████████████████████████████████████████████████████████████████████████████████████████████████████████████| 155/155 [00:28<00:00,  5.48it/s]\n",
      "  1%|█                                                                                                                                                                           | 1/155 [00:00<00:27,  5.51it/s]"
     ]
    },
    {
     "name": "stdout",
     "output_type": "stream",
     "text": [
      "Epoch 39: 2.2684435844421387, 65.80706024169922, 1.6266391277313232\n"
     ]
    },
    {
     "name": "stderr",
     "output_type": "stream",
     "text": [
      "100%|██████████████████████████████████████████████████████████████████████████████████████████████████████████████████████████████████████████████████████████████████████████| 155/155 [00:27<00:00,  5.56it/s]\n",
      "  1%|█                                                                                                                                                                           | 1/155 [00:00<00:27,  5.57it/s]"
     ]
    },
    {
     "name": "stdout",
     "output_type": "stream",
     "text": [
      "Epoch 40: 2.3556101322174072, 74.17620849609375, 1.6301500797271729\n"
     ]
    },
    {
     "name": "stderr",
     "output_type": "stream",
     "text": [
      "100%|██████████████████████████████████████████████████████████████████████████████████████████████████████████████████████████████████████████████████████████████████████████| 155/155 [00:27<00:00,  5.61it/s]\n",
      "  1%|█                                                                                                                                                                           | 1/155 [00:00<00:27,  5.54it/s]"
     ]
    },
    {
     "name": "stdout",
     "output_type": "stream",
     "text": [
      "Epoch 41: 2.4050345420837402, 63.98625946044922, 1.7830017805099487\n"
     ]
    },
    {
     "name": "stderr",
     "output_type": "stream",
     "text": [
      "100%|██████████████████████████████████████████████████████████████████████████████████████████████████████████████████████████████████████████████████████████████████████████| 155/155 [00:27<00:00,  5.61it/s]\n",
      "  1%|█                                                                                                                                                                           | 1/155 [00:00<00:27,  5.57it/s]"
     ]
    },
    {
     "name": "stdout",
     "output_type": "stream",
     "text": [
      "Epoch 42: 2.0621721744537354, 59.66543197631836, 1.4803212881088257\n"
     ]
    },
    {
     "name": "stderr",
     "output_type": "stream",
     "text": [
      "100%|██████████████████████████████████████████████████████████████████████████████████████████████████████████████████████████████████████████████████████████████████████████| 155/155 [00:27<00:00,  5.57it/s]\n",
      "  1%|█                                                                                                                                                                           | 1/155 [00:00<00:27,  5.63it/s]"
     ]
    },
    {
     "name": "stdout",
     "output_type": "stream",
     "text": [
      "Epoch 43: 2.132206916809082, 61.76117706298828, 1.5298945903778076\n"
     ]
    },
    {
     "name": "stderr",
     "output_type": "stream",
     "text": [
      "100%|██████████████████████████████████████████████████████████████████████████████████████████████████████████████████████████████████████████████████████████████████████████| 155/155 [00:27<00:00,  5.61it/s]\n",
      "  0%|                                                                                                                                                                                    | 0/155 [00:00<?, ?it/s]"
     ]
    },
    {
     "name": "stdout",
     "output_type": "stream",
     "text": [
      "Epoch 44: 2.2544193267822266, 66.71407318115234, 1.603312373161316\n"
     ]
    },
    {
     "name": "stderr",
     "output_type": "stream",
     "text": [
      "100%|██████████████████████████████████████████████████████████████████████████████████████████████████████████████████████████████████████████████████████████████████████████| 155/155 [00:27<00:00,  5.60it/s]\n",
      "  1%|█                                                                                                                                                                           | 1/155 [00:00<00:27,  5.54it/s]"
     ]
    },
    {
     "name": "stdout",
     "output_type": "stream",
     "text": [
      "Epoch 45: 2.050964832305908, 69.80657196044922, 1.3665635585784912\n"
     ]
    },
    {
     "name": "stderr",
     "output_type": "stream",
     "text": [
      "100%|██████████████████████████████████████████████████████████████████████████████████████████████████████████████████████████████████████████████████████████████████████████| 155/155 [00:27<00:00,  5.56it/s]\n",
      "  1%|█                                                                                                                                                                           | 1/155 [00:00<00:27,  5.57it/s]"
     ]
    },
    {
     "name": "stdout",
     "output_type": "stream",
     "text": [
      "Epoch 46: 2.330824136734009, 70.0604476928711, 1.6466861963272095\n"
     ]
    },
    {
     "name": "stderr",
     "output_type": "stream",
     "text": [
      "100%|██████████████████████████████████████████████████████████████████████████████████████████████████████████████████████████████████████████████████████████████████████████| 155/155 [00:27<00:00,  5.59it/s]\n",
      "  1%|█                                                                                                                                                                           | 1/155 [00:00<00:27,  5.63it/s]"
     ]
    },
    {
     "name": "stdout",
     "output_type": "stream",
     "text": [
      "Epoch 47: 2.236814022064209, 69.01905822753906, 1.562245488166809\n"
     ]
    },
    {
     "name": "stderr",
     "output_type": "stream",
     "text": [
      "100%|██████████████████████████████████████████████████████████████████████████████████████████████████████████████████████████████████████████████████████████████████████████| 155/155 [00:28<00:00,  5.48it/s]\n",
      "  1%|█                                                                                                                                                                           | 1/155 [00:00<00:28,  5.36it/s]"
     ]
    },
    {
     "name": "stdout",
     "output_type": "stream",
     "text": [
      "Epoch 48: 2.248159408569336, 69.9869613647461, 1.5639290809631348\n"
     ]
    },
    {
     "name": "stderr",
     "output_type": "stream",
     "text": [
      "100%|██████████████████████████████████████████████████████████████████████████████████████████████████████████████████████████████████████████████████████████████████████████| 155/155 [00:27<00:00,  5.54it/s]\n"
     ]
    },
    {
     "name": "stdout",
     "output_type": "stream",
     "text": [
      "Epoch 49: 2.0899715423583984, 63.4749755859375, 1.4699207544326782\n"
     ]
    },
    {
     "data": {
      "image/png": "[encoded data removed]",
      "text/plain": [
       "<Figure size 432x288 with 1 Axes>"
      ]
     },
     "metadata": {
      "needs_background": "light"
     },
     "output_type": "display_data"
    }
   ],
   "source": [
    "EPOCHS = 50\n",
    "BATCH = 10\n",
    "SHUFFLE_BUFFER = 100\n",
    "K = len(set(y_train))\n",
    "\n",
    "train_dataset = tf.data.Dataset.from_tensor_slices((X_train, y_train))\n",
    "train_dataset = train_dataset.shuffle(SHUFFLE_BUFFER).batch(BATCH)\n",
    "\n",
    "loss_history = []\n",
    "sim_history = []\n",
    "re_history = []\n",
    "\n",
    "with experiment.train():\n",
    "    for epoch in range(EPOCHS):\n",
    "        total_loss = 0\n",
    "        total_sim = 0\n",
    "        total_re = 0\n",
    "    #     for i, (input, _) in enumerate(train_dataset):\n",
    "        for (input, _) in tqdm(train_dataset):\n",
    "            loss, similarity_loss, reconstruction_loss = train_step(input, ae)\n",
    "    #         if i % 100 == 0:\n",
    "    #             print(loss)\n",
    "            total_loss += loss\n",
    "            total_sim += similarity_loss\n",
    "            total_re += reconstruction_loss\n",
    "        experiment.log_metric(\"loss\", loss)\n",
    "        experiment.log_metric(\"similarity_loss\", total_sim)\n",
    "        experiment.log_metric(\"reconstruction_loss\", total_re)\n",
    "        loss_history.append(total_loss)\n",
    "        sim_history.append(total_sim)\n",
    "        re_history.append(total_re)\n",
    "        print(\"Epoch {}: {}, {}, {}\".format(epoch, total_loss, total_sim, total_re))\n",
    "    #     break\n",
    "\n",
    "    # ae.save('mymodel')\n",
    "    plt.plot(loss_history)\n",
    "    plt.plot(sim_history)\n",
    "    plt.plot(re_history)"
   ]
  },
  {
   "cell_type": "markdown",
   "metadata": {},
   "source": [
    "# Test"
   ]
  },
  {
   "cell_type": "markdown",
   "metadata": {},
   "source": [
    "## Evaluate reconstruction"
   ]
  },
  {
   "cell_type": "code",
   "execution_count": 10,
   "metadata": {
    "pycharm": {
     "is_executing": false
    },
    "scrolled": false
   },
   "outputs": [
    {
     "data": {
      "image/png": "[encoded data removed]",
      "text/plain": [
       "<Figure size 432x288 with 1 Axes>"
      ]
     },
     "metadata": {
      "needs_background": "light"
     },
     "output_type": "display_data"
    },
    {
     "name": "stdout",
     "output_type": "stream",
     "text": [
      "Mean L2 distance: 1.1663789749145508\n"
     ]
    }
   ],
   "source": [
    "code_test = ae.encode(X_test)\n",
    "decoded_test = ae.decode(code_test)\n",
    "\n",
    "plt.plot(X_test[0])\n",
    "plt.plot(decoded_test[0])\n",
    "plt.show()\n",
    "\n",
    "losses = []\n",
    "for ground, predict in zip(X_test, decoded_test):\n",
    "    losses.append(np.linalg.norm(ground - predict))\n",
    "print(\"Mean L2 distance: {}\".format(np.array(losses).mean()))"
   ]
  },
  {
   "cell_type": "markdown",
   "metadata": {},
   "source": [
    "## Evaluate Similarity"
   ]
  },
  {
   "cell_type": "code",
   "execution_count": 11,
   "metadata": {
    "pycharm": {
     "is_executing": false
    }
   },
   "outputs": [
    {
     "name": "stdout",
     "output_type": "stream",
     "text": [
      "000\n",
      "111\n"
     ]
    },
    {
     "data": {
      "text/plain": [
       "0.47333333333333333"
      ]
     },
     "execution_count": 11,
     "metadata": {},
     "output_type": "execute_result"
    }
   ],
   "source": [
    "from sklearn.neighbors import NearestNeighbors\n",
    "\n",
    "def nn_dist(x, y):\n",
    "    \"\"\"\n",
    "    Sample distance metric, here, using only Euclidean distance\n",
    "    \"\"\"\n",
    "    x = x.reshape((45, 2))\n",
    "    y = y.reshape((45, 2))\n",
    "#     x = x.reshape((40, 2))\n",
    "#     y = y.reshape((40, 2))\n",
    "    return np.linalg.norm(x-y)\n",
    "\n",
    "print(\"000\")\n",
    "nn_x_test = X_test.reshape((-1, 90))\n",
    "# nn_x_test = X_test.reshape((-1, 80))\n",
    "baseline_nn = NearestNeighbors(n_neighbors=10, metric=nn_dist).fit(nn_x_test)\n",
    "code_nn = NearestNeighbors(n_neighbors=10).fit(code_test)\n",
    "print(\"111\")\n",
    "\n",
    "# For each item in the test data, find its 11 nearest neighbors in that dataset (the nn is itself)\n",
    "baseline_11nn = baseline_nn.kneighbors(nn_x_test, 11, return_distance=False)\n",
    "code_11nn     = code_nn.kneighbors(code_test, 11, return_distance=False)\n",
    "\n",
    "# On average, how many common items are in the 10nn?\n",
    "result = []\n",
    "for b, c in zip(baseline_11nn, code_11nn):\n",
    "    # remove the first nn (itself)\n",
    "    b = set(b[1:])\n",
    "    c = set(c[1:])\n",
    "    result.append(len(b.intersection(c)))\n",
    "np.array(result).mean()"
   ]
  },
  {
   "cell_type": "code",
   "execution_count": null,
   "metadata": {
    "pycharm": {
     "is_executing": false
    }
   },
   "outputs": [],
   "source": []
  },
  {
   "cell_type": "code",
   "execution_count": null,
   "metadata": {},
   "outputs": [],
   "source": []
  }
 ],
 "metadata": {
  "kernelspec": {
   "display_name": "Python 3",
   "language": "python",
   "name": "python3"
  },
  "language_info": {
   "codemirror_mode": {
    "name": "ipython",
    "version": 3
   },
   "file_extension": ".py",
   "mimetype": "text/x-python",
   "name": "python",
   "nbconvert_exporter": "python",
   "pygments_lexer": "ipython3",
   "version": "3.7.4"
  },
  "pycharm": {
   "stem_cell": {
    "cell_type": "raw",
    "metadata": {
     "collapsed": false
    },
    "source": []
   }
  }
 },
 "nbformat": 4,
 "nbformat_minor": 4
}
